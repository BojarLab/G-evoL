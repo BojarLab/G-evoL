{
 "cells": [
  {
   "cell_type": "code",
   "id": "initial_id",
   "metadata": {
    "collapsed": true,
    "ExecuteTime": {
     "end_time": "2025-07-24T06:13:12.888118Z",
     "start_time": "2025-07-24T06:12:55.948846Z"
    }
   },
   "source": "from glycowork import GlycoDraw",
   "outputs": [],
   "execution_count": 1
  },
  {
   "metadata": {
    "ExecuteTime": {
     "end_time": "2025-07-24T06:13:12.917356Z",
     "start_time": "2025-07-24T06:13:12.911191Z"
    }
   },
   "cell_type": "code",
   "source": "GlycoDraw(\"Gal(b1-4)GlcNAc\")",
   "id": "5c55409f3441fbe9",
   "outputs": [
    {
     "data": {
      "text/plain": [
       "<drawsvg.drawing.Drawing at 0x130309640>"
      ],
      "image/svg+xml": "<?xml version=\"1.0\" encoding=\"UTF-8\"?>\n<svg xmlns=\"http://www.w3.org/2000/svg\" xmlns:xlink=\"http://www.w3.org/1999/xlink\"\n     width=\"200\" height=\"110\" viewBox=\"-150.0 -55.0 200 110\">\n<defs>\n<path d=\"M-100,0 L0,0\" stroke-width=\"4.0\" stroke=\"#000000\" id=\"sgG3FDJr0\" />\n<path d=\"M-50,25.0 L50,25.0\" stroke-width=\"0\" id=\"sgG3FDJr1\" />\n<path d=\"M-150,25.0 L-50,25.0\" stroke-width=\"0\" id=\"sgG3FDJr2\" />\n</defs>\n<g transform=\"rotate(0 -50.0 0.0)\">\n<use xlink:href=\"#sgG3FDJr0\" />\n<text font-size=\"20.0\" text-anchor=\"middle\" fill=\"#000000\" valign=\"middle\"><textPath xlink:href=\"#sgG3FDJr0\" startOffset=\"50%\">\n<tspan dy=\"-0.5em\">β 4</tspan>\n</textPath></text>\n<rect x=\"-25.0\" y=\"-25.0\" width=\"50\" height=\"50\" fill=\"#0385AE\" stroke-width=\"2.0\" stroke=\"#000000\" />\n<use xlink:href=\"#sgG3FDJr1\" />\n<text font-size=\"17.5\" fill=\"#000000\" text-anchor=\"middle\"><textPath xlink:href=\"#sgG3FDJr1\" startOffset=\"50%\"></textPath></text>\n<circle cx=\"-100\" cy=\"0\" r=\"25.0\" fill=\"#FCC326\" stroke-width=\"2.0\" stroke=\"#000000\" />\n<use xlink:href=\"#sgG3FDJr2\" />\n<text font-size=\"17.5\" fill=\"#000000\" text-anchor=\"middle\"><textPath xlink:href=\"#sgG3FDJr2\" startOffset=\"50%\"></textPath></text>\n</g>\n</svg>"
     },
     "execution_count": 2,
     "metadata": {},
     "output_type": "execute_result"
    }
   ],
   "execution_count": 2
  },
  {
   "metadata": {
    "ExecuteTime": {
     "end_time": "2025-07-24T06:15:25.959237Z",
     "start_time": "2025-07-24T06:15:25.949234Z"
    }
   },
   "cell_type": "code",
   "source": [
    "GlycoDraw(\"GlcNAc(b1-?)Man\")\n",
    "GlycoDraw(\"GlcNAc(b1-2)Man\")\n"
   ],
   "id": "8530d167a8ff406",
   "outputs": [
    {
     "data": {
      "text/plain": [
       "<drawsvg.drawing.Drawing at 0x13495f230>"
      ],
      "image/svg+xml": "<?xml version=\"1.0\" encoding=\"UTF-8\"?>\n<svg xmlns=\"http://www.w3.org/2000/svg\" xmlns:xlink=\"http://www.w3.org/1999/xlink\"\n     width=\"200\" height=\"110\" viewBox=\"-150.0 -55.0 200 110\">\n<defs>\n<path d=\"M-100,0 L0,0\" stroke-width=\"4.0\" stroke=\"#000000\" id=\"MJQrWtdc0\" />\n<path d=\"M-50,25.0 L50,25.0\" stroke-width=\"0\" id=\"MJQrWtdc1\" />\n<path d=\"M-150,25.0 L-50,25.0\" stroke-width=\"0\" id=\"MJQrWtdc2\" />\n</defs>\n<g transform=\"rotate(0 -50.0 0.0)\">\n<use xlink:href=\"#MJQrWtdc0\" />\n<text font-size=\"20.0\" text-anchor=\"middle\" fill=\"#000000\" valign=\"middle\"><textPath xlink:href=\"#MJQrWtdc0\" startOffset=\"50%\">\n<tspan dy=\"-0.5em\">β</tspan>\n</textPath></text>\n<circle cx=\"0\" cy=\"0\" r=\"25.0\" fill=\"#058F60\" stroke-width=\"2.0\" stroke=\"#000000\" />\n<use xlink:href=\"#MJQrWtdc1\" />\n<text font-size=\"17.5\" fill=\"#000000\" text-anchor=\"middle\"><textPath xlink:href=\"#MJQrWtdc1\" startOffset=\"50%\"></textPath></text>\n<rect x=\"-125.0\" y=\"-25.0\" width=\"50\" height=\"50\" fill=\"#0385AE\" stroke-width=\"2.0\" stroke=\"#000000\" />\n<use xlink:href=\"#MJQrWtdc2\" />\n<text font-size=\"17.5\" fill=\"#000000\" text-anchor=\"middle\"><textPath xlink:href=\"#MJQrWtdc2\" startOffset=\"50%\"></textPath></text>\n</g>\n</svg>"
     },
     "execution_count": 3,
     "metadata": {},
     "output_type": "execute_result"
    }
   ],
   "execution_count": 3
  },
  {
   "metadata": {
    "ExecuteTime": {
     "end_time": "2025-07-24T06:19:09.341634Z",
     "start_time": "2025-07-24T06:19:09.326995Z"
    }
   },
   "cell_type": "code",
   "source": "GlycoDraw(\"GalNAc\")",
   "id": "f8bd326f4aca7755",
   "outputs": [
    {
     "data": {
      "text/plain": [
       "<drawsvg.drawing.Drawing at 0x1349780e0>"
      ],
      "image/svg+xml": "<?xml version=\"1.0\" encoding=\"UTF-8\"?>\n<svg xmlns=\"http://www.w3.org/2000/svg\" xmlns:xlink=\"http://www.w3.org/1999/xlink\"\n     width=\"100\" height=\"110\" viewBox=\"-50.0 -55.0 100 110\">\n<defs>\n<path d=\"M-50,25.0 L50,25.0\" stroke-width=\"0\" id=\"IiloxRll0\" />\n</defs>\n<g transform=\"rotate(0 0.0 0.0)\">\n<rect x=\"-25.0\" y=\"-25.0\" width=\"50\" height=\"50\" fill=\"#FCC326\" stroke-width=\"2.0\" stroke=\"#000000\" />\n<use xlink:href=\"#IiloxRll0\" />\n<text font-size=\"17.5\" fill=\"#000000\" text-anchor=\"middle\"><textPath xlink:href=\"#IiloxRll0\" startOffset=\"50%\"></textPath></text>\n</g>\n</svg>"
     },
     "execution_count": 6,
     "metadata": {},
     "output_type": "execute_result"
    }
   ],
   "execution_count": 6
  },
  {
   "metadata": {},
   "cell_type": "code",
   "outputs": [],
   "execution_count": null,
   "source": "",
   "id": "18721b45194a64f0"
  }
 ],
 "metadata": {
  "kernelspec": {
   "display_name": "Python 3",
   "language": "python",
   "name": "python3"
  },
  "language_info": {
   "codemirror_mode": {
    "name": "ipython",
    "version": 2
   },
   "file_extension": ".py",
   "mimetype": "text/x-python",
   "name": "python",
   "nbconvert_exporter": "python",
   "pygments_lexer": "ipython2",
   "version": "2.7.6"
  }
 },
 "nbformat": 4,
 "nbformat_minor": 5
}
